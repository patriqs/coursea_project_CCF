{
  "nbformat": 4,
  "nbformat_minor": 0,
  "metadata": {
    "kernelspec": {
      "display_name": "Python 3",
      "language": "python",
      "name": "python3"
    },
    "language_info": {
      "codemirror_mode": {
        "name": "ipython",
        "version": 3
      },
      "file_extension": ".py",
      "mimetype": "text/x-python",
      "name": "python",
      "nbconvert_exporter": "python",
      "pygments_lexer": "ipython3",
      "version": "3.8.3"
    },
    "colab": {
      "name": "Markdown.ipynb",
      "provenance": [],
      "include_colab_link": true
    }
  },
  "cells": [
    {
      "cell_type": "markdown",
      "metadata": {
        "id": "view-in-github",
        "colab_type": "text"
      },
      "source": [
        "<a href=\"https://colab.research.google.com/github/patriqs/coursea_project_CCF/blob/main/Markdown%20Colab.ipynb\" target=\"_parent\"><img src=\"https://colab.research.google.com/assets/colab-badge.svg\" alt=\"Open In Colab\"/></a>"
      ]
    },
    {
      "cell_type": "code",
      "metadata": {
        "id": "P3V9ZIAJ0ofr",
        "outputId": "4ddb6feb-9aa4-4428-acb9-3e182efefae3"
      },
      "source": [
        "print(\"hello world\")"
      ],
      "execution_count": null,
      "outputs": [
        {
          "name": "stdout",
          "output_type": "stream",
          "text": [
            "hello world\n"
          ]
        }
      ]
    },
    {
      "cell_type": "markdown",
      "metadata": {
        "id": "yvRFjIIN0ofv"
      },
      "source": [
        "# This is a plain text\n",
        "**This is bold text**\n",
        "\n",
        "*This text is italicized*\n",
        "\n",
        "~~This was mistaken text~~\n",
        "\n",
        "**This text is _extremely_ important**\n",
        "\n",
        "***All this text is important***\n",
        "\n",
        "> Text that is a quote\n",
        "\n",
        "Some basic Git commands are:\n",
        "```\n",
        "git status\n",
        "git add\n",
        "git commit\n",
        "```\n",
        "\n",
        "This site was built using [GitHub Pages](https://pages.github.com/).\n",
        "\n",
        "[Contribution guidelines for this project](docs/CONTRIBUTING.md)\n",
        "\n",
        "![This is an image](https://myoctocat.com/assets/images/base-octocat.svg)\n",
        "\n",
        "- George Washington\n",
        "- John Adams\n",
        "- Thomas Jefferson\n",
        "\n",
        "1. First list item\n",
        "   - First nested list item\n",
        "     - Second nested list item\n",
        "     \n",
        "\n",
        "\n",
        "- [x] #739\n",
        "- [ ] https://github.com/octo-org/octo-repo/issues/740\n",
        "- [ ] Add delight to the experience when all tasks are complete :tada:\n",
        "\n",
        "@github/support What do you think about these updates?\n",
        "\n",
        "Here is a simple footnote[^1].\n",
        "\n",
        "A footnote can also have multiple lines[^2].  \n",
        "\n",
        "You can also use words, to fit your writing style more closely[^note].\n",
        "\n",
        "[^1]: My reference.\n",
        "[^2]: Every new line should be prefixed with 2 spaces.  \n",
        "  This allows you to have a footnote with multiple lines.\n",
        "[^note]:\n",
        "    Named footnotes will still render with numbers instead of the text but allow easier identification and linking.  \n",
        "    This footnote also has been made with a different syntax using 4 spaces for new lines.\n",
        "    \n",
        "<!-- This content will not appear in the rendered Markdown -->\n"
      ]
    },
    {
      "cell_type": "code",
      "metadata": {
        "id": "5-fKuQ2F0ofy"
      },
      "source": [
        ""
      ],
      "execution_count": null,
      "outputs": []
    }
  ]
}