{
  "nbformat": 4,
  "nbformat_minor": 0,
  "metadata": {
    "colab": {
      "name": "Untitled0.ipynb",
      "provenance": [],
      "authorship_tag": "ABX9TyNdgRrDhJLG96YYF3QSBcSo",
      "include_colab_link": true
    },
    "kernelspec": {
      "name": "python3",
      "display_name": "Python 3"
    },
    "language_info": {
      "name": "python"
    }
  },
  "cells": [
    {
      "cell_type": "markdown",
      "metadata": {
        "id": "view-in-github",
        "colab_type": "text"
      },
      "source": [
        "<a href=\"https://colab.research.google.com/github/patriqs/coursea_project_CCF/blob/main/Untitled0.ipynb\" target=\"_parent\"><img src=\"https://colab.research.google.com/assets/colab-badge.svg\" alt=\"Open In Colab\"/></a>"
      ]
    },
    {
      "cell_type": "markdown",
      "metadata": {
        "id": "LGytAniUZ73z"
      },
      "source": [
        "\n",
        "\n",
        "## Tis is a header\n"
      ]
    },
    {
      "cell_type": "code",
      "metadata": {
        "colab": {
          "base_uri": "https://localhost:8080/"
        },
        "id": "o6TO3GrmZxGu",
        "outputId": "18403c74-303a-4f3e-cbc3-6b183aef6c16"
      },
      "source": [
        "print(\"hello\")"
      ],
      "execution_count": null,
      "outputs": [
        {
          "output_type": "stream",
          "name": "stdout",
          "text": [
            "hello\n"
          ]
        }
      ]
    },
    {
      "cell_type": "markdown",
      "metadata": {
        "id": "o4wbrEdraHuW"
      },
      "source": [
        "## NR two\n"
      ]
    },
    {
      "cell_type": "code",
      "metadata": {
        "id": "X0Stk6oYaLqR",
        "colab": {
          "base_uri": "https://localhost:8080/"
        },
        "outputId": "c1c1be93-80c5-470a-86d1-f2aa933ee103"
      },
      "source": [
        "def hello():\n",
        "  return print(\"HI\")\n",
        "hello()"
      ],
      "execution_count": 3,
      "outputs": [
        {
          "output_type": "stream",
          "name": "stdout",
          "text": [
            "HI\n"
          ]
        }
      ]
    }
  ]
}