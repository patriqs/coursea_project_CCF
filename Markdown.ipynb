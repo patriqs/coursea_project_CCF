{
 "cells": [
  {
   "cell_type": "code",
   "execution_count": 1,
   "metadata": {},
   "outputs": [
    {
     "name": "stdout",
     "output_type": "stream",
     "text": [
      "hello world\n"
     ]
    }
   ],
   "source": [
    "print(\"hello world\")"
   ]
  },
  {
   "cell_type": "markdown",
   "metadata": {},
   "source": [
    "# This is a plain text\n",
    "**This is bold text**\n",
    "\n",
    "*This text is italicized*\n",
    "\n",
    "~~This was mistaken text~~\n",
    "\n",
    "**This text is _extremely_ important**\n",
    "\n",
    "***All this text is important***\n",
    "\n",
    "> Text that is a quote\n",
    "\n",
    "Some basic Git commands are:\n",
    "```\n",
    "git status\n",
    "git add\n",
    "git commit\n",
    "```\n",
    "\n",
    "This site was built using [GitHub Pages](https://pages.github.com/).\n",
    "\n",
    "[Contribution guidelines for this project](docs/CONTRIBUTING.md)\n",
    "\n",
    "![This is an image](https://myoctocat.com/assets/images/base-octocat.svg)\n",
    "\n",
    "- George Washington\n",
    "- John Adams\n",
    "- Thomas Jefferson\n",
    "\n",
    "1. First list item\n",
    "   - First nested list item\n",
    "     - Second nested list item\n",
    "     \n",
    "\n",
    "\n",
    "- [x] #739\n",
    "- [ ] https://github.com/octo-org/octo-repo/issues/740\n",
    "- [ ] Add delight to the experience when all tasks are complete :tada:\n",
    "\n",
    "@github/support What do you think about these updates?\n",
    "\n",
    "Here is a simple footnote[^1].\n",
    "\n",
    "A footnote can also have multiple lines[^2].  \n",
    "\n",
    "You can also use words, to fit your writing style more closely[^note].\n",
    "\n",
    "[^1]: My reference.\n",
    "[^2]: Every new line should be prefixed with 2 spaces.  \n",
    "  This allows you to have a footnote with multiple lines.\n",
    "[^note]:\n",
    "    Named footnotes will still render with numbers instead of the text but allow easier identification and linking.  \n",
    "    This footnote also has been made with a different syntax using 4 spaces for new lines.\n",
    "    \n",
    "<!-- This content will not appear in the rendered Markdown -->\n"
   ]
  },
  {
   "cell_type": "code",
   "execution_count": null,
   "metadata": {},
   "outputs": [],
   "source": []
  }
 ],
 "metadata": {
  "kernelspec": {
   "display_name": "Python 3",
   "language": "python",
   "name": "python3"
  },
  "language_info": {
   "codemirror_mode": {
    "name": "ipython",
    "version": 3
   },
   "file_extension": ".py",
   "mimetype": "text/x-python",
   "name": "python",
   "nbconvert_exporter": "python",
   "pygments_lexer": "ipython3",
   "version": "3.8.3"
  }
 },
 "nbformat": 4,
 "nbformat_minor": 4
}
