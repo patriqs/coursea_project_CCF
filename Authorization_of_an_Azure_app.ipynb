{
  "nbformat": 4,
  "nbformat_minor": 0,
  "metadata": {
    "colab": {
      "name": "Authorization of an Azure app.ipynb",
      "provenance": [],
      "authorship_tag": "ABX9TyP18dZ6lM/+7zgXuTEbh8Gx",
      "include_colab_link": true
    },
    "kernelspec": {
      "name": "python3",
      "display_name": "Python 3"
    },
    "language_info": {
      "name": "python"
    }
  },
  "cells": [
    {
      "cell_type": "markdown",
      "metadata": {
        "id": "view-in-github",
        "colab_type": "text"
      },
      "source": [
        "<a href=\"https://colab.research.google.com/github/patriqs/coursea_project_CCF/blob/main/Authorization_of_an_Azure_app.ipynb\" target=\"_parent\"><img src=\"https://colab.research.google.com/assets/colab-badge.svg\" alt=\"Open In Colab\"/></a>"
      ]
    },
    {
      "cell_type": "code",
      "metadata": {
        "id": "l_d3hxOk0tGE"
      },
      "source": [
        "import requests\n",
        "import json\n",
        "from requests_oauthlib import OAuth2Session\n",
        "from oauthlib.oauth2 import MobileApplicationClient"
      ],
      "execution_count": 3,
      "outputs": []
    },
    {
      "cell_type": "code",
      "metadata": {
        "colab": {
          "base_uri": "https://localhost:8080/"
        },
        "id": "Yl1xiDzN1McU",
        "outputId": "e2880f9f-c7aa-4548-9e57-14f1043dd50a"
      },
      "source": [
        "client_id = \"c50540b5-a9c4-4faa-9f06-beb69194d04d\"\n",
        "scopes = ['Sites.ReadWrite.All','Files.ReadWrite.All']\n",
        "auth_url = 'https://login.microsoftonline.com/971e06d7-af69-44a8-b1f8-cd7ef718f1db/oauth2/v2.0/authorize'\n",
        "\n",
        "#MobileApplicationClient is used to get the Implicit Grant\n",
        "oauth = OAuth2Session(client=MobileApplicationClient(client_id=client_id), scope=scopes)\n",
        "authorization_url, state = oauth.authorization_url(auth_url) \n",
        "\n",
        "authorization_link = oauth.get(authorization_url)\n",
        "\n",
        "print(authorization_link.url)"
      ],
      "execution_count": 10,
      "outputs": [
        {
          "output_type": "stream",
          "name": "stdout",
          "text": [
            "https://login.microsoftonline.com/971e06d7-af69-44a8-b1f8-cd7ef718f1db/oauth2/v2.0/authorize?response_type=token&client_id=c50540b5-a9c4-4faa-9f06-beb69194d04d&scope=Sites.ReadWrite.All+Files.ReadWrite.All&state=3FFTcdqYl6si2S3jaETrk9T8jKaKO8\n"
          ]
        }
      ]
    },
    {
      "cell_type": "code",
      "metadata": {
        "id": "2zraic-k3YUV"
      },
      "source": [
        ""
      ],
      "execution_count": null,
      "outputs": []
    }
  ]
}